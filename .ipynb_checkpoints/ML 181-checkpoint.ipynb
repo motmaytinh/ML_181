{
 "cells": [
  {
   "cell_type": "code",
   "execution_count": 1,
   "metadata": {},
   "outputs": [
    {
     "name": "stdout",
     "output_type": "stream",
     "text": [
      "X_train:  (49000, 3, 32, 32)\n",
      "y_train:  (49000,)\n",
      "X_val:  (1000, 3, 32, 32)\n",
      "y_val:  (1000,)\n",
      "X_test:  (1000, 3, 32, 32)\n",
      "y_test:  (1000,)\n"
     ]
    }
   ],
   "source": [
    "import numpy as np\n",
    "import matplotlib.pyplot as plt\n",
    "from ml_181.data_utils import get_CIFAR10_data\n",
    "\n",
    "data = get_CIFAR10_data(cifar10_dir=\"/home/nam/cs231/assignments/2018/assignment2/cs231n/datasets/cifar-10-batches-py\")\n",
    "\n",
    "for k, v in data.items():\n",
    "  print('%s: ' % k, v.shape)"
   ]
  },
  {
   "cell_type": "markdown",
   "metadata": {},
   "source": [
    "# Convolution: Naive forward\n",
    "* file: http://localhost:8888/notebooks/ML_181/ml_181/layers.py\n",
    "\n",
    "* function: conv_naive_forward "
   ]
  },
  {
   "cell_type": "code",
   "execution_count": 2,
   "metadata": {},
   "outputs": [
    {
     "data": {
      "text/plain": [
       "(100, 3, 16, 16)"
      ]
     },
     "execution_count": 2,
     "metadata": {},
     "output_type": "execute_result"
    }
   ],
   "source": [
    "from ml_181.layers import conv_naive_forward\n",
    "N = 100\n",
    "\n",
    "X = data['X_train'][0:N]\n",
    "conv_param = {'stride': 2, 'pad': 1} # -> x: (N, 3, 34, 34)\n",
    "\n",
    "w_shape = (3, 3, 4, 4)            # F =3 C = 3; HH = WW = 4\n",
    "\n",
    "\n",
    "w = np.linspace(-0.2, 0.3, num=np.prod(w_shape)).reshape(w_shape)\n",
    "\n",
    "b = np.linspace(-0.1, 0.2, num=3) # C = 3\n",
    "\n",
    "# Hout: (34 -4)/2 + 1 -> 16 : step of sliding windows\n",
    "\n",
    "conv_out, cache_conv = conv_naive_forward(X, w, b, conv_param)\n",
    "# out: (100, 3, 16, 16)\n",
    "conv_out.shape"
   ]
  },
  {
   "cell_type": "markdown",
   "metadata": {},
   "source": [
    "# Max Pooling: Naive forward:\n",
    "* file: http://localhost:8888/notebooks/ML_181/ml_181/layers.py\n",
    "* function: max_pool_naive_forward"
   ]
  },
  {
   "cell_type": "code",
   "execution_count": 3,
   "metadata": {},
   "outputs": [
    {
     "data": {
      "text/plain": [
       "(100, 3, 8, 8)"
      ]
     },
     "execution_count": 3,
     "metadata": {},
     "output_type": "execute_result"
    }
   ],
   "source": [
    "from ml_181.layers import max_pool_naive_forward\n",
    "pool_param = {'pool_height':2, 'pool_width':2 , 'stride': 2}\n",
    "\n",
    "# Hout: 1+ (16 - 2)/2 => 8\n",
    "\n",
    "pool_out, cache_pool = max_pool_naive_forward(conv_out, pool_param)\n",
    "# 100, 3, 9, 9\n",
    "pool_out.shape"
   ]
  },
  {
   "cell_type": "markdown",
   "metadata": {},
   "source": [
    "# Fast layer:\n",
    "+ Implement fast layer in Conv and pooling\n",
    "- in file http://localhost:8888/notebooks/ML_181/ml_181/fast_layers.py"
   ]
  },
  {
   "cell_type": "code",
   "execution_count": 4,
   "metadata": {},
   "outputs": [
    {
     "data": {
      "text/plain": [
       "(100, 3, 16, 16)"
      ]
     },
     "execution_count": 4,
     "metadata": {},
     "output_type": "execute_result"
    }
   ],
   "source": [
    "from ml_181.fast_layers import conv_fast_forward\n",
    "\n",
    "conv_param = {'stride': 2, 'pad': 1} # -> x: (N, 3, 34, 34)\n",
    "\n",
    "w_shape = (3, 3, 4, 4)            # F =3 C = 3; HH = WW = 4\n",
    "\n",
    "out_fast, cache_fast = conv_fast_forward(X, w, b, conv_param)\n",
    "out_fast.shape"
   ]
  },
  {
   "cell_type": "markdown",
   "metadata": {},
   "source": [
    "# Compare:"
   ]
  },
  {
   "cell_type": "code",
   "execution_count": 7,
   "metadata": {},
   "outputs": [
    {
     "name": "stdout",
     "output_type": "stream",
     "text": [
      "Testing conv_forward_fast:\n",
      "Naive: 0.183074s\n",
      "Fast: 0.012181s\n",
      "Speedup: 15.029085x\n"
     ]
    }
   ],
   "source": [
    "from time import time\n",
    "# Conv\n",
    "t0 = time()\n",
    "out_naive, cache_naive = conv_naive_forward(X, w, b, conv_param)\n",
    "t1 = time()\n",
    "out_fast, cache_fast = conv_fast_forward(X, w, b, conv_param)\n",
    "t2 = time()\n",
    "print('Testing conv_forward_fast:')\n",
    "print('Naive: %fs' % (t1 - t0))\n",
    "print('Fast: %fs' % (t2 - t1))\n",
    "print('Speedup: %fx' % ((t1 - t0) / (t2 - t1)))"
   ]
  },
  {
   "cell_type": "code",
   "execution_count": null,
   "metadata": {},
   "outputs": [],
   "source": []
  }
 ],
 "metadata": {
  "kernelspec": {
   "display_name": "Python 3",
   "language": "python",
   "name": "python3"
  },
  "language_info": {
   "codemirror_mode": {
    "name": "ipython",
    "version": 3
   },
   "file_extension": ".py",
   "mimetype": "text/x-python",
   "name": "python",
   "nbconvert_exporter": "python",
   "pygments_lexer": "ipython3",
   "version": "3.7.0"
  }
 },
 "nbformat": 4,
 "nbformat_minor": 2
}
